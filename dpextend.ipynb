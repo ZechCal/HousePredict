{
 "cells": [
  {
   "cell_type": "code",
   "execution_count": 1,
   "metadata": {},
   "outputs": [],
   "source": [
    "import pandas as pd\n",
    "import numpy as np\n",
    "import matplotlib.pyplot as plt\n",
    "from sklearn.preprocessing import StandardScaler, OneHotEncoder\n",
    "import seaborn as sns\n",
    "from scipy import stats\n",
    "%matplotlib inline"
   ]
  },
  {
   "cell_type": "code",
   "execution_count": 2,
   "metadata": {},
   "outputs": [],
   "source": [
    "hdtrain = pd.read_csv(\"./data/train.csv\")\n",
    "hdtest = pd.read_csv(\"./data/test.csv\")"
   ]
  },
  {
   "cell_type": "code",
   "execution_count": 3,
   "metadata": {},
   "outputs": [],
   "source": [
    "hdtrain.drop(hdtrain[(hdtrain['GrLivArea']>4000)&(hdtrain['SalePrice']<210000)].index,inplace=True)\n",
    "#hdtrain.drop(hdtrain[[(hdtrain['OverallQual']<5)&(hdtrain['SalePrice']>200000)]])\n",
    "hdtrain.drop(hdtrain[(hdtrain['YearBuilt']<1900)&(hdtrain['SalePrice']>390000)].index,inplace=True)\n",
    "hdtrain.drop(hdtrain[(hdtrain['TotalBsmtSF']>6000)&(hdtrain['SalePrice']<200000)].index,inplace=True)\n",
    "hdtrain.reset_index(drop=True, inplace=True)\n",
    "hdtrain['SalePrice']=np.log1p(hdtrain[\"SalePrice\"])"
   ]
  },
  {
   "cell_type": "code",
   "execution_count": 4,
   "metadata": {},
   "outputs": [],
   "source": [
    "hdtotal = pd.concat([hdtrain,hdtest],ignore_index=True,sort=False)"
   ]
  },
  {
   "cell_type": "markdown",
   "metadata": {},
   "source": [
    "normalization fit\n",
    "================="
   ]
  },
  {
   "cell_type": "markdown",
   "metadata": {},
   "source": [
    "Handleing miss values"
   ]
  },
  {
   "cell_type": "code",
   "execution_count": 5,
   "metadata": {},
   "outputs": [],
   "source": [
    "cols = [\"PoolQC\" , \"MiscFeature\", \"Alley\", \"Fence\", \"FireplaceQu\", \"GarageQual\", \"GarageCond\", \"GarageFinish\", \"GarageYrBlt\", \"GarageType\", \"BsmtExposure\", \"BsmtCond\", \"BsmtQual\", \"BsmtFinType2\", \"BsmtFinType1\", \"MasVnrType\"]\n",
    "for col in cols:\n",
    "    hdtotal[col].fillna(\"None\", inplace=True)\n",
    "for col in ('GarageYrBlt', 'GarageArea', 'GarageCars','MasVnrArea'):\n",
    "    hdtotal[col] = hdtotal[col].fillna(0)\n",
    "hdtotal[\"MSZoning\"] = hdtotal.groupby(\"MSSubClass\")[\"MSZoning\"].transform(lambda x: x.fillna(x.mode()[0]))\n",
    "hdtotal['KitchenQual']=hdtotal['KitchenQual'].fillna(hdtotal['KitchenQual'].mode()[0])\n",
    "hdtotal['Exterior1st']=hdtotal['Exterior1st'].fillna(hdtotal['Exterior1st'].mode()[0])\n",
    "hdtotal['Exterior2nd']=hdtotal['Exterior2nd'].fillna(hdtotal['Exterior2nd'].mode()[0])\n",
    "hdtotal['SaleType']=hdtotal['SaleType'].fillna(hdtotal['SaleType'].mode()[0])\n",
    "hdtotal['Utilities']=hdtotal['Utilities'].fillna(hdtotal['Utilities'].mode()[0])\n",
    "hdtotal[\"Functional\"] = hdtotal[\"Functional\"].fillna(\"Typ\")\n",
    "for col in ('BsmtFinSF1', 'BsmtFinSF2', 'BsmtUnfSF','TotalBsmtSF', 'BsmtFullBath', 'BsmtHalfBath'):\n",
    "    hdtotal[col] = hdtotal[col].fillna(0)"
   ]
  },
  {
   "cell_type": "code",
   "execution_count": 6,
   "metadata": {},
   "outputs": [],
   "source": [
    "x = hdtotal.loc[hdtotal[\"LotFrontage\"].notnull(), \"LotArea\"]\n",
    "y = hdtotal.loc[hdtotal[\"LotFrontage\"].notnull(), \"LotFrontage\"]\n",
    "t = (x <= 25000) & (y <= 150)\n",
    "p = np.polyfit(x[t], y[t], 1)\n",
    "hdtotal.loc[hdtotal['LotFrontage'].isnull(), 'LotFrontage'] = np.polyval(p, hdtotal.loc[hdtotal['LotFrontage'].isnull(), 'LotArea'])"
   ]
  },
  {
   "cell_type": "code",
   "execution_count": null,
   "metadata": {},
   "outputs": [],
   "source": []
  },
  {
   "cell_type": "code",
   "execution_count": 7,
   "metadata": {},
   "outputs": [],
   "source": [
    "hdtotal['TotalSF']=hdtotal['TotalBsmtSF']+hdtotal['1stFlrSF']+hdtotal['2ndFlrSF']\n",
    "hdtotal['HasWoodDeck'] = (hdtotal['WoodDeckSF'] == 0) * 1\n",
    "hdtotal['HasOpenPorch'] = (hdtotal['OpenPorchSF'] == 0) * 1\n",
    "hdtotal['HasEnclosedPorch'] = (hdtotal['EnclosedPorch'] == 0) * 1\n",
    "hdtotal['Has3SsnPorch'] = (hdtotal['3SsnPorch'] == 0) * 1\n",
    "hdtotal['HScreenPorch'] = (hdtotal['ScreenPorch'] == 0) * 1\n",
    "hdtotal['YrsSinceRemod'] = hdtotal['YrSold'].astype(int) - hdtotal['YearRemodAdd'].astype(int)\n",
    "hdtotal['TotalHomeQual'] = hdtotal['OverallQual'] + hdtotal['OverallCond']"
   ]
  },
  {
   "cell_type": "markdown",
   "metadata": {},
   "source": [
    "Encoding * * * Encoding * * *"
   ]
  },
  {
   "cell_type": "code",
   "execution_count": 8,
   "metadata": {},
   "outputs": [],
   "source": [
    "hdtotal=pd.get_dummies(hdtotal)"
   ]
  },
  {
   "cell_type": "code",
   "execution_count": 10,
   "metadata": {},
   "outputs": [
    {
     "name": "stdout",
     "output_type": "stream",
     "text": [
      "(2916, 414)\n"
     ]
    }
   ],
   "source": [
    "print(hdtotal.shape)"
   ]
  },
  {
   "cell_type": "code",
   "execution_count": 11,
   "metadata": {},
   "outputs": [],
   "source": [
    "from scipy.stats import skew\n",
    "\n",
    "numerics = hdtotal.dtypes[hdtotal.dtypes != \"object\"].index\n",
    "\n",
    "skewefs = hdtotal[numerics].apply(lambda x: skew(x.dropna())) #compute skewness\n",
    "skewefs = skewefs[skewefs > 0.75]\n",
    "skewefs = skewefs.index\n",
    "\n",
    "hdtotal[skewefs] = np.log1p(hdtotal[skewefs])"
   ]
  },
  {
   "cell_type": "code",
   "execution_count": 12,
   "metadata": {},
   "outputs": [],
   "source": [
    "train_index=hdtrain.index\n",
    "test_index=list(set(hdtotal.index).difference(set(hdtrain.index)))"
   ]
  },
  {
   "cell_type": "markdown",
   "metadata": {},
   "source": [
    "Start test\n",
    "============"
   ]
  },
  {
   "cell_type": "code",
   "execution_count": 31,
   "metadata": {},
   "outputs": [],
   "source": [
    "from xgboost import XGBRegressor\n",
    "from sklearn.model_selection import GridSearchCV\n",
    "from sklearn.model_selection import StratifiedKFold \n",
    "from sklearn.model_selection import train_test_split,KFold, cross_val_score\n",
    "from sklearn.linear_model import ElasticNet, ElasticNetCV, Lasso,  BayesianRidge, LassoLarsIC,RidgeCV,  LassoCV, LassoLarsCV\n",
    "from sklearn.ensemble import RandomForestRegressor,  GradientBoostingRegressor\n",
    "from sklearn.kernel_ridge import KernelRidge\n",
    "from sklearn.pipeline import make_pipeline\n",
    "from sklearn.preprocessing import RobustScaler\n",
    "from sklearn.base import BaseEstimator, TransformerMixin, RegressorMixin, clone\n",
    "import lightgbm as lgb\n",
    "\n",
    "hdt_train = hdtotal.iloc[train_index]\n",
    "\n",
    "y = hdt_train.SalePrice\n",
    "X = hdt_train.drop(['SalePrice'], axis=1).select_dtypes(exclude=['object'])\n",
    "\n",
    "learning_rate = [0.001,0.01,0.05,0.1,0.2] \n",
    "gamma = [1, 0.1, 0.01, 0.001]\n",
    "param_grid = dict(learning_rate = learning_rate,gamma = gamma)\n",
    " \n",
    "train_X, test_X, train_y, test_y = train_test_split(X.values, y.values, test_size=0.25)"
   ]
  },
  {
   "cell_type": "code",
   "execution_count": 221,
   "metadata": {},
   "outputs": [
    {
     "name": "stdout",
     "output_type": "stream",
     "text": [
      "[21:36:45] WARNING: C:/Jenkins/workspace/xgboost-win64_release_0.90/src/objective/regression_obj.cu:152: reg:linear is now deprecated in favor of reg:squarederror.\n",
      "[0]\tvalidation_0-rmse:10.9746\n",
      "[600]\tvalidation_0-rmse:0.117668\n",
      "[1200]\tvalidation_0-rmse:0.118461\n",
      "[1800]\tvalidation_0-rmse:0.118381\n",
      "[2400]\tvalidation_0-rmse:0.118381\n",
      "[2999]\tvalidation_0-rmse:0.118381\n"
     ]
    },
    {
     "data": {
      "text/plain": [
       "XGBRegressor(base_score=0.5, booster='gbtree', colsample_bylevel=1,\n",
       "             colsample_bynode=1, colsample_bytree=1, gamma=0.001,\n",
       "             importance_type='gain', learning_rate=0.05, max_delta_step=0,\n",
       "             max_depth=3, min_child_weight=1, missing=None, n_estimators=3000,\n",
       "             n_jobs=1, nthread=None, objective='reg:linear', random_state=0,\n",
       "             reg_alpha=0, reg_lambda=1, scale_pos_weight=1, seed=None,\n",
       "             silent=None, subsample=1, verbosity=1)"
      ]
     },
     "execution_count": 221,
     "metadata": {},
     "output_type": "execute_result"
    }
   ],
   "source": [
    "xgbmodel1=XGBRegressor(n_estimators=3000, learning_rate=0.05, gamma=0.001)\n",
    "xgbmodel1.fit(train_X,train_y,eval_set=[(test_X, test_y)],verbose=600)"
   ]
  },
  {
   "cell_type": "code",
   "execution_count": 33,
   "metadata": {},
   "outputs": [
    {
     "data": {
      "text/plain": [
       "XGBRegressor(base_score=0.5, booster='gbtree', colsample_bylevel=1,\n",
       "             colsample_bynode=1, colsample_bytree=0.4603, gamma=0.0468,\n",
       "             importance_type='gain', learning_rate=0.05, max_delta_step=0,\n",
       "             max_depth=3, min_child_weight=1.7817, missing=None,\n",
       "             n_estimators=2200, n_jobs=1, nthread=-1, objective='reg:linear',\n",
       "             random_state=7, reg_alpha=0.464, reg_lambda=0.8571,\n",
       "             scale_pos_weight=1, seed=None, silent=1, subsample=0.5213,\n",
       "             verbosity=1)"
      ]
     },
     "execution_count": 33,
     "metadata": {},
     "output_type": "execute_result"
    }
   ],
   "source": [
    "xgbmodel2=XGBRegressor(colsample_bytree=0.4603, gamma=0.0468, \n",
    "                             learning_rate=0.05, max_depth=3, \n",
    "                             min_child_weight=1.7817, n_estimators=2200,\n",
    "                             reg_alpha=0.4640, reg_lambda=0.8571,\n",
    "                             subsample=0.5213, silent=1,\n",
    "                             random_state =7, nthread = -1)\n",
    "xgbmodel2.fit(X,y)"
   ]
  },
  {
   "cell_type": "code",
   "execution_count": 34,
   "metadata": {},
   "outputs": [],
   "source": [
    "hdt_test = hdtotal.iloc[test_index]\n",
    "hdt_test = hdt_test.drop(['SalePrice'], axis=1).select_dtypes(exclude=['object'])"
   ]
  },
  {
   "cell_type": "code",
   "execution_count": 224,
   "metadata": {},
   "outputs": [],
   "source": [
    "prediction = xgbmodel1.predict(hdt_test.values)"
   ]
  },
  {
   "cell_type": "code",
   "execution_count": 223,
   "metadata": {},
   "outputs": [],
   "source": [
    "prediction = xgbmodel2.predict(hdt_test)"
   ]
  },
  {
   "cell_type": "code",
   "execution_count": 225,
   "metadata": {},
   "outputs": [],
   "source": [
    "predictions=[]\n",
    "for pre in prediction:\n",
    "    predictions.append(np.expm1(pre))"
   ]
  },
  {
   "cell_type": "code",
   "execution_count": 37,
   "metadata": {},
   "outputs": [],
   "source": [
    "save = pd.DataFrame({\n",
    "    'Id' : hdtest.Id,\n",
    "    'SalePrice' : predictions\n",
    "})"
   ]
  },
  {
   "cell_type": "code",
   "execution_count": 19,
   "metadata": {},
   "outputs": [],
   "source": [
    "alphas = [0.000542555]\n",
    "l1ratio = [0.1, 0.3,0.5, 0.9, 0.95, 0.99, 1]\n",
    "\n",
    "ENet = ElasticNetCV(cv=5, max_iter=1e7, alphas=alphas,  l1_ratio=l1ratio)"
   ]
  },
  {
   "cell_type": "code",
   "execution_count": 20,
   "metadata": {},
   "outputs": [],
   "source": [
    "lasso = LassoCV(alphas = [1, 0.1, 0.001, 0.0005,0.0003,0.0002, 5e-4],max_iter=2000)\n",
    "KRR = KernelRidge(alpha=0.6, kernel='polynomial', degree=2, coef0=2.5)\n",
    "GBoost = GradientBoostingRegressor(n_estimators=3000, learning_rate=0.05,\n",
    "                                   max_depth=4, max_features='sqrt',\n",
    "                                   min_samples_leaf=15, min_samples_split=10, \n",
    "                                   loss='huber', random_state =5)\n",
    "model_lgb = lgb.LGBMRegressor(objective='regression',num_leaves=5,\n",
    "                              learning_rate=0.05, n_estimators=720,\n",
    "                              max_bin = 55, bagging_fraction = 0.8,\n",
    "                              bagging_freq = 5, feature_fraction = 0.2319,\n",
    "                              feature_fraction_seed=9, bagging_seed=9,\n",
    "                              min_data_in_leaf =6, min_sum_hessian_in_leaf = 11)\n"
   ]
  },
  {
   "cell_type": "markdown",
   "metadata": {},
   "source": [
    "Considerable Lasso\n",
    "------------------"
   ]
  },
  {
   "cell_type": "code",
   "execution_count": 30,
   "metadata": {},
   "outputs": [
    {
     "name": "stderr",
     "output_type": "stream",
     "text": [
      "/usr/local/lib/python3.6/dist-packages/sklearn/model_selection/_split.py:1978: FutureWarning: The default value of cv will change from 3 to 5 in version 0.22. Specify it explicitly to silence this warning.\n",
      "  warnings.warn(CV_WARNING, FutureWarning)\n",
      "/usr/local/lib/python3.6/dist-packages/sklearn/linear_model/coordinate_descent.py:471: ConvergenceWarning: Objective did not converge. You might want to increase the number of iterations. Duality gap: 5.4768770894864955, tolerance: 0.015370589434091432\n",
      "  tol, rng, random, positive)\n",
      "/usr/local/lib/python3.6/dist-packages/sklearn/linear_model/coordinate_descent.py:471: ConvergenceWarning: Objective did not converge. You might want to increase the number of iterations. Duality gap: 0.3898185236222407, tolerance: 0.015014236805946324\n",
      "  tol, rng, random, positive)\n",
      "/usr/local/lib/python3.6/dist-packages/sklearn/linear_model/coordinate_descent.py:471: ConvergenceWarning: Objective did not converge. You might want to increase the number of iterations. Duality gap: 5.634233339778684, tolerance: 0.015947714659249945\n",
      "  tol, rng, random, positive)\n",
      "/usr/local/lib/python3.6/dist-packages/sklearn/linear_model/coordinate_descent.py:475: ConvergenceWarning: Objective did not converge. You might want to increase the number of iterations. Duality gap: 7.46684194586149, tolerance: 0.023168831112826953\n",
      "  positive)\n"
     ]
    },
    {
     "data": {
      "text/plain": [
       "LassoCV(alphas=[1, 0.1, 0.001, 0.0005, 0.0003, 0.0002, 0.0005], copy_X=True,\n",
       "        cv='warn', eps=0.001, fit_intercept=True, max_iter=1000, n_alphas=100,\n",
       "        n_jobs=None, normalize=False, positive=False, precompute='auto',\n",
       "        random_state=None, selection='cyclic', tol=0.0001, verbose=False)"
      ]
     },
     "execution_count": 30,
     "metadata": {},
     "output_type": "execute_result"
    }
   ],
   "source": [
    "lasso.fit(X,y)"
   ]
  },
  {
   "cell_type": "code",
   "execution_count": 52,
   "metadata": {},
   "outputs": [],
   "source": [
    "coef = pd.Series(lasso.coef_, index = X.columns)   "
   ]
  },
  {
   "cell_type": "code",
   "execution_count": 40,
   "metadata": {},
   "outputs": [
    {
     "data": {
      "text/plain": [
       "Text(0.5, 1.0, 'Coefficients in the Lasso Model')"
      ]
     },
     "execution_count": 40,
     "metadata": {},
     "output_type": "execute_result"
    },
    {
     "data": {
      "image/png": "[encoded data removed]",
      "text/plain": [
       "<Figure size 432x288 with 1 Axes>"
      ]
     },
     "metadata": {
      "needs_background": "light"
     },
     "output_type": "display_data"
    }
   ],
   "source": [
    "imp_coef = pd.concat([coef.sort_values().head(10),\n",
    "                     coef.sort_values().tail(10)])\n",
    "imp_coef.plot(kind = \"barh\")\n",
    "plt.title(\"Coefficients in the Lasso Model\")"
   ]
  },
  {
   "cell_type": "code",
   "execution_count": 37,
   "metadata": {},
   "outputs": [
    {
     "name": "stdout",
     "output_type": "stream",
     "text": [
      "Lasso kept  131 important features and dropped the other  282  features\n"
     ]
    }
   ],
   "source": [
    "print(\"Lasso kept \",sum(coef != 0), \"important features and dropped the other \", sum(coef == 0),\" features\")"
   ]
  },
  {
   "cell_type": "code",
   "execution_count": 57,
   "metadata": {},
   "outputs": [],
   "source": [
    "unimfs=coef[coef==0].index.tolist()"
   ]
  },
  {
   "cell_type": "code",
   "execution_count": 63,
   "metadata": {},
   "outputs": [],
   "source": [
    "for col in unimfs:\n",
    "    hdtotal=hdtotal.drop(col,axis=1)"
   ]
  },
  {
   "cell_type": "code",
   "execution_count": 76,
   "metadata": {},
   "outputs": [],
   "source": [
    "model_lgb.fit(X.values,y)\n",
    "lprediction = model_lgb.predict(hdt_test.values)"
   ]
  },
  {
   "cell_type": "code",
   "execution_count": 77,
   "metadata": {},
   "outputs": [],
   "source": [
    "lpredictions=[]\n",
    "for pre in lprediction:\n",
    "    lpredictions.append(np.expm1(pre))"
   ]
  },
  {
   "cell_type": "code",
   "execution_count": 25,
   "metadata": {},
   "outputs": [],
   "source": [
    "class AveragingModels(BaseEstimator, RegressorMixin, TransformerMixin):\n",
    "    def __init__(self, models):\n",
    "        self.models = models\n",
    "        \n",
    "    # we define clones of the original models to fit the data in\n",
    "    def fit(self, X, y):\n",
    "        self.models_ = [clone(x) for x in self.models]\n",
    "        \n",
    "        # Train cloned base models\n",
    "        for model in self.models_:\n",
    "            model.fit(X, y)\n",
    "\n",
    "        return self\n",
    "    \n",
    "    #Now we do the predictions for cloned models and average them\n",
    "    def predict(self, X):\n",
    "        predictions = np.column_stack([\n",
    "            model.predict(X) for model in self.models_\n",
    "        ])\n",
    "        return np.mean(predictions, axis=1)   \n",
    "    \n",
    "\n",
    "class StackingAveragedModels(BaseEstimator, RegressorMixin, TransformerMixin):\n",
    "    def __init__(self, base_models, meta_model, n_folds=5):\n",
    "        self.base_models = base_models\n",
    "        self.meta_model = meta_model\n",
    "        self.n_folds = n_folds\n",
    "   \n",
    "    # We again fit the data on clones of the original models\n",
    "    def fit(self, X, y):\n",
    "        self.base_models_ = [list() for x in self.base_models]\n",
    "        self.meta_model_ = clone(self.meta_model)\n",
    "        kfold = KFold(n_splits=self.n_folds, shuffle=True, random_state=156)\n",
    "        \n",
    "        # Train cloned base models then create out-of-fold predictions\n",
    "        # that are needed to train the cloned meta-model\n",
    "        out_of_fold_predictions = np.zeros((X.shape[0], len(self.base_models)))\n",
    "        for i, model in enumerate(self.base_models):\n",
    "            for train_index, holdout_index in kfold.split(X, y):\n",
    "                instance = clone(model)\n",
    "                self.base_models_[i].append(instance)\n",
    "                instance.fit(X[train_index], y[train_index])\n",
    "                y_pred = instance.predict(X[holdout_index])\n",
    "                out_of_fold_predictions[holdout_index, i] = y_pred\n",
    "                \n",
    "        # Now train the cloned  meta-model using the out-of-fold predictions as new feature\n",
    "        self.meta_model_.fit(out_of_fold_predictions, y)\n",
    "        return self\n",
    "   \n",
    "    #Do the predictions of all base models on the test data and use the averaged predictions as \n",
    "    #meta-features for the final prediction which is done by the meta-model\n",
    "    def predict(self, X):\n",
    "        meta_features = np.column_stack([\n",
    "            np.column_stack([model.predict(X) for model in base_models]).mean(axis=1)\n",
    "            for base_models in self.base_models_ ])\n",
    "        return self.meta_model_.predict(meta_features)"
   ]
  },
  {
   "cell_type": "code",
   "execution_count": 298,
   "metadata": {},
   "outputs": [
    {
     "name": "stderr",
     "output_type": "stream",
     "text": [
      "D:\\Anaconda\\envs\\TensorCat\\lib\\site-packages\\sklearn\\linear_model\\_coordinate_descent.py:476: ConvergenceWarning: Objective did not converge. You might want to increase the number of iterations. Duality gap: 5.485065531873642, tolerance: 0.023168831112826953\n",
      "  positive)\n",
      "D:\\Anaconda\\envs\\TensorCat\\lib\\site-packages\\xgboost\\core.py:587: FutureWarning: Series.base is deprecated and will be removed in a future version\n",
      "  if getattr(data, 'base', None) is not None and \\\n",
      "D:\\Anaconda\\envs\\TensorCat\\lib\\site-packages\\xgboost\\core.py:588: FutureWarning: Series.base is deprecated and will be removed in a future version\n",
      "  data.base is not None and isinstance(data, np.ndarray) \\\n"
     ]
    },
    {
     "data": {
      "text/plain": [
       "array([11.73254914, 11.96216592, 12.12723827, ..., 12.0182367 ,\n",
       "       11.67217533, 12.28254246])"
      ]
     },
     "execution_count": 298,
     "metadata": {},
     "output_type": "execute_result"
    }
   ],
   "source": [
    "avm = AveragingModels(models = (ENet, GBoost, lasso, xgbmodel2, model_lgb))\n",
    "avm.fit(X.values, y)"
   ]
  },
  {
   "cell_type": "code",
   "execution_count": 299,
   "metadata": {},
   "outputs": [],
   "source": [
    "pav=avm.predict(hdt_test.values)"
   ]
  },
  {
   "cell_type": "code",
   "execution_count": 40,
   "metadata": {},
   "outputs": [],
   "source": [
    "save = pd.DataFrame({\n",
    "    'Id' : hdtest.Id,\n",
    "    'SalePrice' : pred\n",
    "})"
   ]
  },
  {
   "cell_type": "code",
   "execution_count": 82,
   "metadata": {},
   "outputs": [
    {
     "name": "stderr",
     "output_type": "stream",
     "text": [
      "/usr/local/lib/python3.6/dist-packages/sklearn/model_selection/_split.py:1978: FutureWarning: The default value of cv will change from 3 to 5 in version 0.22. Specify it explicitly to silence this warning.\n",
      "  warnings.warn(CV_WARNING, FutureWarning)\n",
      "/usr/local/lib/python3.6/dist-packages/sklearn/linear_model/coordinate_descent.py:475: ConvergenceWarning: Objective did not converge. You might want to increase the number of iterations. Duality gap: 5.6373104595270425, tolerance: 0.018266153442351836\n",
      "  positive)\n",
      "/usr/local/lib/python3.6/dist-packages/sklearn/model_selection/_split.py:1978: FutureWarning: The default value of cv will change from 3 to 5 in version 0.22. Specify it explicitly to silence this warning.\n",
      "  warnings.warn(CV_WARNING, FutureWarning)\n",
      "/usr/local/lib/python3.6/dist-packages/sklearn/linear_model/coordinate_descent.py:475: ConvergenceWarning: Objective did not converge. You might want to increase the number of iterations. Duality gap: 5.408588405500536, tolerance: 0.01851123914581039\n",
      "  positive)\n",
      "/usr/local/lib/python3.6/dist-packages/sklearn/model_selection/_split.py:1978: FutureWarning: The default value of cv will change from 3 to 5 in version 0.22. Specify it explicitly to silence this warning.\n",
      "  warnings.warn(CV_WARNING, FutureWarning)\n",
      "/usr/local/lib/python3.6/dist-packages/sklearn/linear_model/coordinate_descent.py:475: ConvergenceWarning: Objective did not converge. You might want to increase the number of iterations. Duality gap: 5.393747199404257, tolerance: 0.01870942464635015\n",
      "  positive)\n",
      "/usr/local/lib/python3.6/dist-packages/sklearn/model_selection/_split.py:1978: FutureWarning: The default value of cv will change from 3 to 5 in version 0.22. Specify it explicitly to silence this warning.\n",
      "  warnings.warn(CV_WARNING, FutureWarning)\n",
      "/usr/local/lib/python3.6/dist-packages/sklearn/linear_model/coordinate_descent.py:475: ConvergenceWarning: Objective did not converge. You might want to increase the number of iterations. Duality gap: 5.392263816115269, tolerance: 0.01868331799351793\n",
      "  positive)\n",
      "/usr/local/lib/python3.6/dist-packages/sklearn/model_selection/_split.py:1978: FutureWarning: The default value of cv will change from 3 to 5 in version 0.22. Specify it explicitly to silence this warning.\n",
      "  warnings.warn(CV_WARNING, FutureWarning)\n",
      "/usr/local/lib/python3.6/dist-packages/sklearn/linear_model/coordinate_descent.py:475: ConvergenceWarning: Objective did not converge. You might want to increase the number of iterations. Duality gap: 5.1802400478363175, tolerance: 0.0184804792915095\n",
      "  positive)\n",
      "/usr/local/lib/python3.6/dist-packages/xgboost/core.py:587: FutureWarning: Series.base is deprecated and will be removed in a future version\n",
      "  if getattr(data, 'base', None) is not None and \\\n",
      "/usr/local/lib/python3.6/dist-packages/xgboost/core.py:588: FutureWarning: Series.base is deprecated and will be removed in a future version\n",
      "  data.base is not None and isinstance(data, np.ndarray) \\\n"
     ]
    },
    {
     "data": {
      "text/plain": [
       "StackingAveragedModels(base_models=(ElasticNetCV(alphas=[0.000542555],\n",
       "                                                 copy_X=True, cv=5, eps=0.001,\n",
       "                                                 fit_intercept=True,\n",
       "                                                 l1_ratio=[0.1, 0.3, 0.5, 0.9,\n",
       "                                                           0.95, 0.99, 1],\n",
       "                                                 max_iter=10000000.0,\n",
       "                                                 n_alphas=100, n_jobs=None,\n",
       "                                                 normalize=False,\n",
       "                                                 positive=False,\n",
       "                                                 precompute='auto',\n",
       "                                                 random_state=None,\n",
       "                                                 selection='cyclic', tol=0.0001,\n",
       "                                                 verbose=0),\n",
       "                                    GradientBoostingRegressor(alpha=0.9,\n",
       "                                                              criter...\n",
       "                                               colsample_bynode=1,\n",
       "                                               colsample_bytree=0.4603,\n",
       "                                               gamma=0.0468,\n",
       "                                               importance_type='gain',\n",
       "                                               learning_rate=0.05,\n",
       "                                               max_delta_step=0, max_depth=3,\n",
       "                                               min_child_weight=1.7817,\n",
       "                                               missing=None, n_estimators=2200,\n",
       "                                               n_jobs=1, nthread=-1,\n",
       "                                               objective='reg:linear',\n",
       "                                               random_state=7, reg_alpha=0.464,\n",
       "                                               reg_lambda=0.8571,\n",
       "                                               scale_pos_weight=1, seed=None,\n",
       "                                               silent=1, subsample=0.5213,\n",
       "                                               verbosity=1),\n",
       "                       n_folds=5)"
      ]
     },
     "execution_count": 82,
     "metadata": {},
     "output_type": "execute_result"
    }
   ],
   "source": [
    "sam = StackingAveragedModels(base_models = (ENet, GBoost, KRR, lasso),\n",
    "                                                 meta_model = xgbmodel2)\n",
    "sam.fit(X.values,y)"
   ]
  },
  {
   "cell_type": "code",
   "execution_count": 83,
   "metadata": {},
   "outputs": [],
   "source": [
    "spred=np.expm1(sam.predict(hdt_test.values))"
   ]
  },
  {
   "cell_type": "code",
   "execution_count": 87,
   "metadata": {},
   "outputs": [],
   "source": [
    "ensemble = pd.DataFrame(spred)*0.70 + pd.DataFrame(predictions)*0.15 + pd.DataFrame(lpredictions)*0.15"
   ]
  },
  {
   "cell_type": "code",
   "execution_count": 85,
   "metadata": {},
   "outputs": [],
   "source": [
    "save = pd.DataFrame({\n",
    "    'Id' : hdtest.Id,\n",
    "    'SalePrice' : ensemble.values[:,0]\n",
    "})"
   ]
  },
  {
   "cell_type": "code",
   "execution_count": 15,
   "metadata": {},
   "outputs": [],
   "source": [
    "def overfit_reducer(df):\n",
    "    #This function takes in a dataframe and returns a list of features that are overfitted.\n",
    "    overfit = []\n",
    "    for i in df.columns:\n",
    "        counts = df[i].value_counts()\n",
    "        zeros = counts.iloc[0]\n",
    "        if zeros / len(df) * 100 > 99.94:\n",
    "            overfit.append(i)\n",
    "    overfit = list(overfit)\n",
    "    return overfit"
   ]
  },
  {
   "cell_type": "code",
   "execution_count": 30,
   "metadata": {},
   "outputs": [],
   "source": [
    "overfitted_features = overfit_reducer(hdtotal)\n",
    "\n",
    "hdtotal = hdtotal.drop(overfitted_features, axis=1)"
   ]
  },
  {
   "cell_type": "code",
   "execution_count": 90,
   "metadata": {},
   "outputs": [
    {
     "name": "stderr",
     "output_type": "stream",
     "text": [
      "/usr/local/lib/python3.6/dist-packages/xgboost/core.py:587: FutureWarning: Series.base is deprecated and will be removed in a future version\n",
      "  if getattr(data, 'base', None) is not None and \\\n",
      "/usr/local/lib/python3.6/dist-packages/xgboost/core.py:588: FutureWarning: Series.base is deprecated and will be removed in a future version\n",
      "  data.base is not None and isinstance(data, np.ndarray) \\\n"
     ]
    },
    {
     "name": "stdout",
     "output_type": "stream",
     "text": [
      "[09:42:04] WARNING: /workspace/src/objective/regression_obj.cu:152: reg:linear is now deprecated in favor of reg:squarederror.\n"
     ]
    },
    {
     "name": "stderr",
     "output_type": "stream",
     "text": [
      "/usr/local/lib/python3.6/dist-packages/xgboost/core.py:587: FutureWarning: Series.base is deprecated and will be removed in a future version\n",
      "  if getattr(data, 'base', None) is not None and \\\n",
      "/usr/local/lib/python3.6/dist-packages/xgboost/core.py:588: FutureWarning: Series.base is deprecated and will be removed in a future version\n",
      "  data.base is not None and isinstance(data, np.ndarray) \\\n"
     ]
    }
   ],
   "source": [
    "from sklearn.ensemble import VotingRegressor\n",
    "\n",
    "vote_mod = VotingRegressor([('GB',GBoost),('Ridge', KRR), ('Lasso', lasso), ('Elastic', ENet), ('XGBRegressor', xgbmodel2),('LightGBM',model_lgb)])\n",
    "vote= vote_mod.fit(X,y)\n",
    "vote_pred=vote.predict(hdt_test)"
   ]
  },
  {
   "cell_type": "code",
   "execution_count": 91,
   "metadata": {},
   "outputs": [],
   "source": [
    "vote_pred = np.expm1(vote_pred)\n",
    "save = pd.DataFrame({\n",
    "    'Id' : hdtest.Id,\n",
    "    'SalePrice' : vote_pred\n",
    "})"
   ]
  },
  {
   "cell_type": "code",
   "execution_count": 96,
   "metadata": {},
   "outputs": [],
   "source": [
    "ensemble = pd.DataFrame(spred)*0.40+ pd.DataFrame(vote_pred)*0.15 + pd.DataFrame(predictions)*0.20 + pd.DataFrame(lpredictions)*0.25"
   ]
  },
  {
   "cell_type": "code",
   "execution_count": 97,
   "metadata": {},
   "outputs": [],
   "source": [
    "save = pd.DataFrame({\n",
    "    'Id' : hdtest.Id,\n",
    "    'SalePrice' : ensemble.values[:,0]\n",
    "})"
   ]
  },
  {
   "cell_type": "code",
   "execution_count": null,
   "metadata": {},
   "outputs": [],
   "source": [
    "from mlxtend.regressor import StackingRegressor\n",
    "\n",
    "\n",
    "streg = StackingRegressor(regressors=[ENet,KRR, lasso, vote_mod], \n",
    "                           meta_regressor=xgb, use_features_in_secondary=True\n",
    "                          )\n",
    "\n",
    "stack_mod=streg.fit(X,y.ravel())"
   ]
  },
  {
   "cell_type": "code",
   "execution_count": 110,
   "metadata": {},
   "outputs": [],
   "source": [
    "save.to_csv('stackedD.csv', index=False)"
   ]
  },
  {
   "cell_type": "code",
   "execution_count": null,
   "metadata": {},
   "outputs": [],
   "source": []
  },
  {
   "cell_type": "code",
   "execution_count": 46,
   "metadata": {},
   "outputs": [],
   "source": [
    "from mlxtend.regressor import StackingCVRegressor\n",
    "from sklearn.svm import SVR"
   ]
  },
  {
   "cell_type": "code",
   "execution_count": 47,
   "metadata": {},
   "outputs": [],
   "source": [
    "alphas_alt = [14.5, 14.6, 14.7, 14.8, 14.9, 15, 15.1, 15.2, 15.3, 15.4, 15.5]\n",
    "alphas2 = [5e-05, 0.0001, 0.0002, 0.0003, 0.0004, 0.0005, 0.0006, 0.0007, 0.0008]\n",
    "e_alphas = [0.0001, 0.0002, 0.0003, 0.0004, 0.0005, 0.0006, 0.0007]\n",
    "e_l1ratio = [0.8, 0.85, 0.9, 0.95, 0.99, 1]\n",
    "kfolds = KFold(n_splits=10, shuffle=True, random_state=42)"
   ]
  },
  {
   "cell_type": "code",
   "execution_count": 48,
   "metadata": {},
   "outputs": [],
   "source": [
    "ridgep = make_pipeline(RobustScaler(), RidgeCV(alphas=alphas_alt, cv=kfolds))\n",
    "lassop = make_pipeline(RobustScaler(), LassoCV(max_iter=1e7, alphas=alphas2, random_state=42, cv=kfolds))\n",
    "elasticnetp = make_pipeline(RobustScaler(), ElasticNetCV(max_iter=1e7, alphas=e_alphas, cv=kfolds, l1_ratio=e_l1ratio))                                \n",
    "svrp = make_pipeline(RobustScaler(), SVR(C= 20, epsilon= 0.008, gamma=0.0003,))\n",
    "gbrp = GradientBoostingRegressor(n_estimators=3000, learning_rate=0.05, max_depth=4, max_features='sqrt', min_samples_leaf=15, min_samples_split=10, loss='huber', random_state =42)"
   ]
  },
  {
   "cell_type": "code",
   "execution_count": 49,
   "metadata": {},
   "outputs": [],
   "source": [
    "xgboost = XGBRegressor(learning_rate=0.01,n_estimators=3460,\n",
    "                                     max_depth=3, min_child_weight=0,\n",
    "                                     gamma=0, subsample=0.7,\n",
    "                                     colsample_bytree=0.7,\n",
    "                                     objective='reg:squarederror', nthread=-1,\n",
    "                                     scale_pos_weight=1, seed=27,\n",
    "                                     reg_alpha=0.00006)"
   ]
  },
  {
   "cell_type": "code",
   "execution_count": 50,
   "metadata": {},
   "outputs": [],
   "source": [
    "lightgbm = lgb.LGBMRegressor(objective='regression', \n",
    "                                       num_leaves=4,\n",
    "                                       learning_rate=0.01, \n",
    "                                       n_estimators=5000,\n",
    "                                       max_bin=200, \n",
    "                                       bagging_fraction=0.75,\n",
    "                                       bagging_freq=5, \n",
    "                                       bagging_seed=7,\n",
    "                                       feature_fraction=0.2,\n",
    "                                       feature_fraction_seed=7,\n",
    "                                       verbose=-1,\n",
    "                                       )"
   ]
  },
  {
   "cell_type": "code",
   "execution_count": 51,
   "metadata": {},
   "outputs": [],
   "source": [
    "stack_gen = StackingCVRegressor(regressors=(ridgep, lassop, elasticnetp, xgboost, lightgbm),\n",
    "                                meta_regressor=xgboost,\n",
    "                                use_features_in_secondary=True)"
   ]
  },
  {
   "cell_type": "code",
   "execution_count": 52,
   "metadata": {},
   "outputs": [
    {
     "name": "stdout",
     "output_type": "stream",
     "text": [
      "elasticnet\n",
      "Lasso\n",
      "Ridge\n",
      "Svr\n"
     ]
    }
   ],
   "source": [
    "print('elasticnet')\n",
    "elastic_model_full_data = elasticnetp.fit(X, y)\n",
    "\n",
    "print('Lasso')\n",
    "lasso_model_full_data = lassop.fit(X, y)\n",
    "\n",
    "print('Ridge') \n",
    "ridge_model_full_data = ridgep.fit(X, y)\n",
    "\n",
    "print('Svr')\n",
    "#svr_model_full_data = svrp.fit(X, y)\n",
    "\n",
    "# print('GradientBoosting')\n",
    "\n",
    "\n"
   ]
  },
  {
   "cell_type": "code",
   "execution_count": 138,
   "metadata": {},
   "outputs": [],
   "source": [
    "gbr_model_full_data = gbrp.fit(X, y)"
   ]
  },
  {
   "cell_type": "code",
   "execution_count": 53,
   "metadata": {},
   "outputs": [],
   "source": [
    "svr_model_full_data = svrp.fit(X, y)"
   ]
  },
  {
   "cell_type": "code",
   "execution_count": 54,
   "metadata": {},
   "outputs": [
    {
     "name": "stdout",
     "output_type": "stream",
     "text": [
      "xgboost\n"
     ]
    },
    {
     "name": "stderr",
     "output_type": "stream",
     "text": [
      "D:\\Anaconda\\envs\\TensorCat\\lib\\site-packages\\xgboost\\core.py:587: FutureWarning: Series.base is deprecated and will be removed in a future version\n",
      "  if getattr(data, 'base', None) is not None and \\\n",
      "D:\\Anaconda\\envs\\TensorCat\\lib\\site-packages\\xgboost\\core.py:588: FutureWarning: Series.base is deprecated and will be removed in a future version\n",
      "  data.base is not None and isinstance(data, np.ndarray) \\\n"
     ]
    },
    {
     "name": "stdout",
     "output_type": "stream",
     "text": [
      "lightgbm\n",
      "stacking\n"
     ]
    }
   ],
   "source": [
    "print('xgboost')\n",
    "xgb_model_full_data = xgboost.fit(X, y)\n",
    "\n",
    "print('lightgbm')\n",
    "lgb_model_full_data = lightgbm.fit(X, y)\n",
    "print(\"stacking\")\n",
    "stack_gen_data=stack_gen.fit(X,y)"
   ]
  },
  {
   "cell_type": "code",
   "execution_count": 56,
   "metadata": {},
   "outputs": [],
   "source": [
    "edt=elastic_model_full_data.predict(hdt_test)\n",
    "ldt=lasso_model_full_data.predict(hdt_test)\n",
    "rdt=ridge_model_full_data.predict(hdt_test)\n",
    "\n",
    "xdt=xgb_model_full_data.predict(hdt_test)\n",
    "lgdt=lgb_model_full_data.predict(hdt_test)\n",
    "sdt=stack_gen_data.predict(hdt_test.values)\n",
    "svdt=svr_model_full_data.predict(hdt_test)"
   ]
  },
  {
   "cell_type": "code",
   "execution_count": 139,
   "metadata": {},
   "outputs": [],
   "source": [
    "gdt=gbr_model_full_data.predict(hdt_test)"
   ]
  },
  {
   "cell_type": "code",
   "execution_count": 228,
   "metadata": {},
   "outputs": [
    {
     "data": {
      "text/plain": [
       "numpy.ndarray"
      ]
     },
     "execution_count": 228,
     "metadata": {},
     "output_type": "execute_result"
    }
   ],
   "source": [
    "type(sdt)"
   ]
  },
  {
   "cell_type": "code",
   "execution_count": 477,
   "metadata": {},
   "outputs": [],
   "source": [
    "avmts=((0.0 * edt) + \\\n",
    "            (0.0 * ldt) + \\\n",
    "            (0.05 * rdt) + \\\n",
    "            (0.30 * svdt) + \\\n",
    "             (0.11 * gdt) + \\\n",
    "            (0.0 * xdt) + \\\n",
    "            (0.25 * lgdt) + \\\n",
    "            (0.19 * sdt)+\\\n",
    "            (0.10 * np.array(pav)))"
   ]
  },
  {
   "cell_type": "code",
   "execution_count": 478,
   "metadata": {},
   "outputs": [
    {
     "name": "stdout",
     "output_type": "stream",
     "text": [
      "1459\n"
     ]
    }
   ],
   "source": [
    "print(len(avmts))"
   ]
  },
  {
   "cell_type": "code",
   "execution_count": 479,
   "metadata": {},
   "outputs": [],
   "source": [
    "est=avmts\n",
    "est=np.expm1(est)"
   ]
  },
  {
   "cell_type": "code",
   "execution_count": 480,
   "metadata": {},
   "outputs": [],
   "source": [
    "save = pd.DataFrame({\n",
    "    'Id' : hdtest.Id,\n",
    "    'SalePrice' : est\n",
    "})"
   ]
  },
  {
   "cell_type": "code",
   "execution_count": 481,
   "metadata": {},
   "outputs": [
    {
     "name": "stdout",
     "output_type": "stream",
     "text": [
      "0.007212282826731618\n"
     ]
    }
   ],
   "source": [
    "verify=pd.read_csv('y_true.csv')\n",
    "from sklearn.metrics import mean_squared_error\n",
    "vcopy=verify.copy()\n",
    "scopy=save.copy()\n",
    "vcopy['SalePrice']=vcopy['SalePrice'].apply(np.log1p)\n",
    "scopy['SalePrice']=scopy['SalePrice'].apply(np.log1p)\n",
    "print(mean_squared_error(vcopy,scopy))"
   ]
  },
  {
   "cell_type": "markdown",
   "metadata": {},
   "source": [
    "0.007501845346158475=11889"
   ]
  },
  {
   "cell_type": "code",
   "execution_count": 382,
   "metadata": {},
   "outputs": [],
   "source": [
    "save.to_csv('reduceoverfitting5.csv',index=False)"
   ]
  },
  {
   "cell_type": "code",
   "execution_count": 446,
   "metadata": {},
   "outputs": [],
   "source": [
    "save.to_csv('reduceof9.csv',index=False)"
   ]
  },
  {
   "cell_type": "code",
   "execution_count": null,
   "metadata": {},
   "outputs": [],
   "source": [
    "of3=0.007334\n",
    "of4=0.00726\n",
    "of6=7259\n",
    "of5=7255\n",
    "of7=7241\n",
    "of8=7220\n",
    "of9=7205"
   ]
  }
 ],
 "metadata": {
  "kernelspec": {
   "display_name": "Python 3",
   "language": "python",
   "name": "python3"
  },
  "language_info": {
   "codemirror_mode": {
    "name": "ipython",
    "version": 3
   },
   "file_extension": ".py",
   "mimetype": "text/x-python",
   "name": "python",
   "nbconvert_exporter": "python",
   "pygments_lexer": "ipython3",
   "version": "3.6.9"
  }
 },
 "nbformat": 4,
 "nbformat_minor": 4
}
